{
  "nbformat": 4,
  "nbformat_minor": 0,
  "metadata": {
    "colab": {
      "provenance": []
    },
    "kernelspec": {
      "name": "python3",
      "display_name": "Python 3"
    },
    "language_info": {
      "name": "python"
    }
  },
  "cells": [
    {
      "cell_type": "markdown",
      "source": [
        "# Version 1\n",
        "\n",
        "This script defines a function called get_codons() that takes a DNA sequence as input and returns an array of codons. The function loops through the DNA sequence with a step size of 3, extracts the codon at each step, and adds it to an array of codons. The function then returns the array of codons.\n",
        "\n",
        "To test the function, we call it with a sample ORF DNA sequence as input and print the resulting array of codons."
      ],
      "metadata": {
        "id": "Vl1F3vpgYwAH"
      }
    },
    {
      "cell_type": "code",
      "source": [
        "# define the function that takes the ORF DNA sequence as input\n",
        "def get_codons(dna_seq):\n",
        "  # create an empty array to store the codons\n",
        "  codons = []\n",
        "  \n",
        "  # loop through the DNA sequence with a step size of 3\n",
        "  for i in range(0, len(dna_seq), 3):\n",
        "    # extract the codon by slicing the DNA sequence at the current index and taking the next three characters\n",
        "    codon = dna_seq[i:i+3]\n",
        "    # add the codon to the array of codons\n",
        "    codons.append(codon)\n",
        "  \n",
        "  # return the array of codons\n",
        "  return codons\n",
        "\n",
        "# test the function with a sample ORF DNA sequence\n",
        "dna_seq = \"ATGGCTAGCGTAACGATCGATCGATCGATCGTAGCTAGCTACGATCGATCGTAGCTAGCTACGATCGTAGCTAGCTAGCTAGC\"\n",
        "codons = get_codons(dna_seq)\n",
        "print(codons)\n"
      ],
      "metadata": {
        "id": "Uffk-dz2YzPX"
      },
      "execution_count": null,
      "outputs": []
    },
    {
      "cell_type": "markdown",
      "source": [
        "# Improving the Script\n",
        "\n",
        "Use a faster looping construct: Instead of using a for loop with a step size of 3, we could use a while loop and increment the index by 3 on each iteration. This would eliminate the overhead of the for loop and make the code run slightly faster.\n",
        "\n",
        "Use string concatenation instead of slicing: Instead of extracting the codon by slicing the DNA sequence at the current index and taking the next three characters, we could use string concatenation to build the codon by adding the next three characters to an empty string. This would eliminate the overhead of slicing the string and make the code run slightly faster.\n",
        "\n",
        "Pre-allocate the array of codons: Instead of creating an empty array and appending the codons to it one by one, we could pre-allocate the array with the correct size and store the codons directly in their correct positions. This would eliminate the overhead of appending to the array and make the code run slightly faster."
      ],
      "metadata": {
        "id": "pYyV30NLY6BY"
      }
    },
    {
      "cell_type": "code",
      "source": [
        "# define the function that takes the ORF DNA sequence as input\n",
        "def get_codons(dna_seq):\n",
        "  # calculate the number of codons in the DNA sequence\n",
        "  num_codons = len(dna_seq) // 3\n",
        "  \n",
        "  # pre-allocate the array of codons with the correct size\n",
        "  codons = [''] * num_codons\n",
        "  \n",
        "  # initialize the index variable\n",
        "  i = 0\n",
        "  \n",
        "  # loop through the DNA sequence with a while loop\n",
        "  while i < len(dna_seq):\n",
        "    # use string concatenation to build the codon by adding the next three characters\n",
        "    codon = dna_seq[i] + dna_seq[i+1] + dna_seq[i+2]\n",
        "    # store the codon in the array of codons at the correct position\n",
        "    codons[i//3] = codon\n",
        "    # increment the index by 3\n",
        "    i += 3\n",
        "  \n",
        "  # return the array of codons\n",
        "  return codons\n",
        "\n",
        "# test the function with a sample ORF DNA sequence\n",
        "dna_seq = \"ATGGCTAGCGTAACGATCGATCGATCGATCGTAGCTAGCTACGATCGATCGTAGCTAGCTACGATCGTAGCTAGCTAGCTAGC\"\n",
        "codons = get_codons(dna_seq)\n",
        "print(codons)"
      ],
      "metadata": {
        "id": "RPilg3vbZEIm"
      },
      "execution_count": null,
      "outputs": []
    },
    {
      "cell_type": "markdown",
      "source": [
        "This script defines a function called get_codons() that takes a DNA sequence as input and returns an array of codons. The function calculates the number of codons in the DNA sequence and pre-allocates the array of codons with the correct size. Then, it uses a while loop to iterate over the DNA sequence, using string concatenation to build the codon and storing it directly in the array of codons at the correct position. The function then returns the array of codons."
      ],
      "metadata": {
        "id": "lUj1jbxaZLIk"
      }
    }
  ]
}