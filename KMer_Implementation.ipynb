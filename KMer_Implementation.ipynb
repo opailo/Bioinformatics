{
  "nbformat": 4,
  "nbformat_minor": 0,
  "metadata": {
    "colab": {
      "provenance": [],
      "authorship_tag": "ABX9TyMIkZr9e6hav5lkNjk4ySSL",
      "include_colab_link": true
    },
    "kernelspec": {
      "name": "python3",
      "display_name": "Python 3"
    },
    "language_info": {
      "name": "python"
    }
  },
  "cells": [
    {
      "cell_type": "markdown",
      "metadata": {
        "id": "view-in-github",
        "colab_type": "text"
      },
      "source": [
        "<a href=\"https://colab.research.google.com/github/opailo/Bioinformatics/blob/main/KMer_Implementation.ipynb\" target=\"_parent\"><img src=\"https://colab.research.google.com/assets/colab-badge.svg\" alt=\"Open In Colab\"/></a>"
      ]
    },
    {
      "cell_type": "code",
      "execution_count": 2,
      "metadata": {
        "id": "Xe8WXGMFnzbG"
      },
      "outputs": [],
      "source": [
        "import bisect"
      ]
    },
    {
      "cell_type": "code",
      "source": [
        "class Index(object):\n",
        "  def __init__(self, t, k):\n",
        "    \"\"\"\n",
        "    t: the text we are searching \n",
        "    k: kmer\n",
        "\n",
        "    Loops through the text and appends ever possible kmer to the index \n",
        "    and then sorts the index.\n",
        "    \"\"\"\n",
        "    self.k = k\n",
        "    self.index = []\n",
        "\n",
        "    for i in range(len(t) - k + 1):\n",
        "      # appends a tuple to the index\n",
        "      self.index.append((t[i:i + k], i))\n",
        "\n",
        "    self.index.sort()\n",
        "\n",
        "  \n",
        "  def query(self, p):\n",
        "    \"\"\"\n",
        "    Takes pattern p that is going to match against the text t\n",
        "    \"\"\"\n",
        "    kmer = p[: self.k]\n",
        "\n",
        "    # finds the first position in the list where this kmer occurs\n",
        "    i = bisect.bisect_left(self.index, (kmer, -1))\n",
        "    hits = []\n",
        "\n",
        "    # looks in list until we find all the entries of that kmer\n",
        "    while i < len(self.index):\n",
        "      if self.index[i][0] != kmer:\n",
        "        break\n",
        "      \n",
        "      hits.append(self.index[i][1])\n",
        "      i += 1\n",
        "\n",
        "    return hits"
      ],
      "metadata": {
        "id": "XUoceNLu4oyg"
      },
      "execution_count": 5,
      "outputs": []
    },
    {
      "cell_type": "code",
      "source": [
        "def query_index(p, t, index):\n",
        "  \"\"\"\n",
        "  Going to return the offsets of where the rest of p matches the rest of t based on the pre-indexed list\n",
        "\n",
        "  This function is the verification step\n",
        "  \"\"\"\n",
        "  k = index.k\n",
        "  offsets = []\n",
        "  for i in index.query(p):\n",
        "    if p[k:] == t[i+k: i + len(p)]:\n",
        "      offsets.append(i)\n",
        "\n",
        "  return offsets"
      ],
      "metadata": {
        "id": "fbjwb4DY5-To"
      },
      "execution_count": 4,
      "outputs": []
    },
    {
      "cell_type": "code",
      "source": [
        "t = 'GCTACGATCTAGAATCTA'\n",
        "p = 'TCTA'\n",
        "\n",
        "index = Index(t, 2)\n",
        "print(query_index(p, t, index))"
      ],
      "metadata": {
        "colab": {
          "base_uri": "https://localhost:8080/"
        },
        "id": "3lXlwOEo6X_N",
        "outputId": "f7439397-c484-487b-a1de-810f748bf9ef"
      },
      "execution_count": 6,
      "outputs": [
        {
          "output_type": "stream",
          "name": "stdout",
          "text": [
            "[7, 14]\n"
          ]
        }
      ]
    }
  ]
}