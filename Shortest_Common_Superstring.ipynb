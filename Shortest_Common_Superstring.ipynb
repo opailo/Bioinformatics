{
  "nbformat": 4,
  "nbformat_minor": 0,
  "metadata": {
    "colab": {
      "provenance": []
    },
    "kernelspec": {
      "name": "python3",
      "display_name": "Python 3"
    },
    "language_info": {
      "name": "python"
    }
  },
  "cells": [
    {
      "cell_type": "markdown",
      "source": [
        "# Brute Force"
      ],
      "metadata": {
        "id": "P6KdTjQmLF7W"
      }
    },
    {
      "cell_type": "code",
      "source": [
        "def shortest_common_superstring(strings):\n",
        "    # We'll start by initializing the shortest_superstring variable to the first string in the list\n",
        "    shortest_superstring = strings[0]\n",
        "\n",
        "    # Now we'll iterate over the rest of the strings in the list\n",
        "    for string in strings[1:]:\n",
        "        # For each string, we'll check if it can be added to the current shortest superstring\n",
        "        # to create a new, shorter superstring. If it can, we'll update shortest_superstring with\n",
        "        # the new shorter superstring.\n",
        "        for i in range(len(shortest_superstring)):\n",
        "            if shortest_superstring.startswith(string[:i+1]):\n",
        "                shortest_superstring = shortest_superstring[:i] + string\n",
        "                break\n",
        "\n",
        "    # Finally, we'll return the shortest superstring we've found\n",
        "    return shortest_superstring\n"
      ],
      "metadata": {
        "id": "KF-S2Nv2LOrX"
      },
      "execution_count": null,
      "outputs": []
    },
    {
      "cell_type": "code",
      "source": [
        "strings = [\"abc\", \"def\"]\n",
        "shortest_common_superstring(strings)"
      ],
      "metadata": {
        "id": "s3eF9B-6LSmD"
      },
      "execution_count": null,
      "outputs": []
    },
    {
      "cell_type": "markdown",
      "source": [
        "# Greedy "
      ],
      "metadata": {
        "id": "4bYqw3IeLTcO"
      }
    },
    {
      "cell_type": "code",
      "source": [
        "def shortest_common_superstring(strings):\n",
        "    # We'll start by initializing the shortest_superstring variable to the first string in the list\n",
        "    shortest_superstring = strings[0]\n",
        "\n",
        "    # Now we'll iterate over the rest of the strings in the list\n",
        "    for string in strings[1:]:\n",
        "        # For each string, we'll try to find the longest common prefix and suffix with the current\n",
        "        # shortest superstring. We'll then combine these to create a new, shorter superstring.\n",
        "        prefix = 0\n",
        "        suffix = 0\n",
        "        for i in range(min(len(string), len(shortest_superstring))):\n",
        "            if string[i] == shortest_superstring[i]:\n",
        "                prefix += 1\n",
        "            else:\n",
        "                break\n",
        "        for i in range(min(len(string), len(shortest_superstring))):\n",
        "            if string[-i - 1] == shortest_superstring[-i - 1]:\n",
        "                suffix += 1\n",
        "            else:\n",
        "                break\n",
        "        shortest_superstring = string[:prefix] + shortest_superstring + string[-suffix:]\n",
        "\n",
        "    # Finally, we'll return the shortest superstring we've found\n",
        "    return shortest_superstring\n"
      ],
      "metadata": {
        "id": "mus_sdCXLUqZ"
      },
      "execution_count": null,
      "outputs": []
    },
    {
      "cell_type": "code",
      "source": [
        "strings = [\"abc\", \"def\"]\n",
        "shortest_common_superstring(strings)\n"
      ],
      "metadata": {
        "id": "zelfIXtnLW9L"
      },
      "execution_count": null,
      "outputs": []
    }
  ]
}